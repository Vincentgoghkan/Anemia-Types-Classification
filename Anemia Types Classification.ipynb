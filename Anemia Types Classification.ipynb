{
 "cells": [
  {
   "cell_type": "code",
   "execution_count": 1,
   "id": "1af65441-61e7-4a68-a101-476981edfbce",
   "metadata": {},
   "outputs": [],
   "source": [
    "import pandas as pd\n",
    "import numpy as np\n",
    "import matplotlib.pyplot as plt\n",
    "import warnings\n",
    "import time\n",
    "warnings.filterwarnings('ignore')"
   ]
  },
  {
   "cell_type": "code",
   "execution_count": 2,
   "id": "86253374-29d2-478e-9b09-f26d9fc93338",
   "metadata": {},
   "outputs": [],
   "source": [
    "data= pd.read_csv('diagnosed_cbc_data_v4.csv')\n",
    "df=data.copy()"
   ]
  },
  {
   "cell_type": "code",
   "execution_count": 3,
   "id": "26ab1e7c-27b5-4496-a24f-d8a550e36d69",
   "metadata": {},
   "outputs": [
    {
     "data": {
      "text/html": [
       "<div>\n",
       "<style scoped>\n",
       "    .dataframe tbody tr th:only-of-type {\n",
       "        vertical-align: middle;\n",
       "    }\n",
       "\n",
       "    .dataframe tbody tr th {\n",
       "        vertical-align: top;\n",
       "    }\n",
       "\n",
       "    .dataframe thead th {\n",
       "        text-align: right;\n",
       "    }\n",
       "</style>\n",
       "<table border=\"1\" class=\"dataframe\">\n",
       "  <thead>\n",
       "    <tr style=\"text-align: right;\">\n",
       "      <th></th>\n",
       "      <th>WBC</th>\n",
       "      <th>LYMp</th>\n",
       "      <th>NEUTp</th>\n",
       "      <th>LYMn</th>\n",
       "      <th>NEUTn</th>\n",
       "      <th>RBC</th>\n",
       "      <th>HGB</th>\n",
       "      <th>HCT</th>\n",
       "      <th>MCV</th>\n",
       "      <th>MCH</th>\n",
       "      <th>MCHC</th>\n",
       "      <th>PLT</th>\n",
       "      <th>PDW</th>\n",
       "      <th>PCT</th>\n",
       "      <th>Diagnosis</th>\n",
       "    </tr>\n",
       "  </thead>\n",
       "  <tbody>\n",
       "    <tr>\n",
       "      <th>0</th>\n",
       "      <td>10.0</td>\n",
       "      <td>43.2</td>\n",
       "      <td>50.1</td>\n",
       "      <td>4.3</td>\n",
       "      <td>5.0</td>\n",
       "      <td>2.77</td>\n",
       "      <td>7.3</td>\n",
       "      <td>24.2</td>\n",
       "      <td>87.7</td>\n",
       "      <td>26.3</td>\n",
       "      <td>30.1</td>\n",
       "      <td>189.0</td>\n",
       "      <td>12.5</td>\n",
       "      <td>0.17</td>\n",
       "      <td>Normocytic hypochromic anemia</td>\n",
       "    </tr>\n",
       "    <tr>\n",
       "      <th>1</th>\n",
       "      <td>10.0</td>\n",
       "      <td>42.4</td>\n",
       "      <td>52.3</td>\n",
       "      <td>4.2</td>\n",
       "      <td>5.3</td>\n",
       "      <td>2.84</td>\n",
       "      <td>7.3</td>\n",
       "      <td>25.0</td>\n",
       "      <td>88.2</td>\n",
       "      <td>25.7</td>\n",
       "      <td>20.2</td>\n",
       "      <td>180.0</td>\n",
       "      <td>12.5</td>\n",
       "      <td>0.16</td>\n",
       "      <td>Normocytic hypochromic anemia</td>\n",
       "    </tr>\n",
       "    <tr>\n",
       "      <th>2</th>\n",
       "      <td>7.2</td>\n",
       "      <td>30.7</td>\n",
       "      <td>60.7</td>\n",
       "      <td>2.2</td>\n",
       "      <td>4.4</td>\n",
       "      <td>3.97</td>\n",
       "      <td>9.0</td>\n",
       "      <td>30.5</td>\n",
       "      <td>77.0</td>\n",
       "      <td>22.6</td>\n",
       "      <td>29.5</td>\n",
       "      <td>148.0</td>\n",
       "      <td>14.3</td>\n",
       "      <td>0.14</td>\n",
       "      <td>Iron deficiency anemia</td>\n",
       "    </tr>\n",
       "    <tr>\n",
       "      <th>3</th>\n",
       "      <td>6.0</td>\n",
       "      <td>30.2</td>\n",
       "      <td>63.5</td>\n",
       "      <td>1.8</td>\n",
       "      <td>3.8</td>\n",
       "      <td>4.22</td>\n",
       "      <td>3.8</td>\n",
       "      <td>32.8</td>\n",
       "      <td>77.9</td>\n",
       "      <td>23.2</td>\n",
       "      <td>29.8</td>\n",
       "      <td>143.0</td>\n",
       "      <td>11.3</td>\n",
       "      <td>0.12</td>\n",
       "      <td>Iron deficiency anemia</td>\n",
       "    </tr>\n",
       "    <tr>\n",
       "      <th>4</th>\n",
       "      <td>4.2</td>\n",
       "      <td>39.1</td>\n",
       "      <td>53.7</td>\n",
       "      <td>1.6</td>\n",
       "      <td>2.3</td>\n",
       "      <td>3.93</td>\n",
       "      <td>0.4</td>\n",
       "      <td>316.0</td>\n",
       "      <td>80.6</td>\n",
       "      <td>23.9</td>\n",
       "      <td>29.7</td>\n",
       "      <td>236.0</td>\n",
       "      <td>12.8</td>\n",
       "      <td>0.22</td>\n",
       "      <td>Normocytic hypochromic anemia</td>\n",
       "    </tr>\n",
       "  </tbody>\n",
       "</table>\n",
       "</div>"
      ],
      "text/plain": [
       "    WBC  LYMp  NEUTp  LYMn  NEUTn   RBC  HGB    HCT   MCV   MCH  MCHC    PLT  \\\n",
       "0  10.0  43.2   50.1   4.3    5.0  2.77  7.3   24.2  87.7  26.3  30.1  189.0   \n",
       "1  10.0  42.4   52.3   4.2    5.3  2.84  7.3   25.0  88.2  25.7  20.2  180.0   \n",
       "2   7.2  30.7   60.7   2.2    4.4  3.97  9.0   30.5  77.0  22.6  29.5  148.0   \n",
       "3   6.0  30.2   63.5   1.8    3.8  4.22  3.8   32.8  77.9  23.2  29.8  143.0   \n",
       "4   4.2  39.1   53.7   1.6    2.3  3.93  0.4  316.0  80.6  23.9  29.7  236.0   \n",
       "\n",
       "    PDW   PCT                      Diagnosis  \n",
       "0  12.5  0.17  Normocytic hypochromic anemia  \n",
       "1  12.5  0.16  Normocytic hypochromic anemia  \n",
       "2  14.3  0.14         Iron deficiency anemia  \n",
       "3  11.3  0.12         Iron deficiency anemia  \n",
       "4  12.8  0.22  Normocytic hypochromic anemia  "
      ]
     },
     "execution_count": 3,
     "metadata": {},
     "output_type": "execute_result"
    }
   ],
   "source": [
    "df.head()"
   ]
  },
  {
   "cell_type": "code",
   "execution_count": 4,
   "id": "021920f5-b0cd-44ab-b915-e04cb68ac3bd",
   "metadata": {},
   "outputs": [
    {
     "data": {
      "image/png": "[encoded data removed]",
      "text/plain": [
       "<Figure size 600x600 with 1 Axes>"
      ]
     },
     "metadata": {},
     "output_type": "display_data"
    }
   ],
   "source": [
    "plt.figure(figsize=(6, 6))\n",
    "df['Diagnosis'].value_counts().plot(kind=\"bar\")\n",
    "plt.xlabel(\"Values\")\n",
    "plt.ylabel(\"Frequency\")\n",
    "plt.title(f\"{'Diagnosis'} Distribution\")\n",
    "plt.tight_layout()\n",
    "plt.xticks()\n",
    "plt.show()"
   ]
  },
  {
   "cell_type": "code",
   "execution_count": 5,
   "id": "d1c48c6a-d07e-4cf2-98eb-f60e7745c0a5",
   "metadata": {},
   "outputs": [
    {
     "name": "stdout",
     "output_type": "stream",
     "text": [
      "<class 'pandas.core.frame.DataFrame'>\n",
      "RangeIndex: 1281 entries, 0 to 1280\n",
      "Data columns (total 15 columns):\n",
      " #   Column     Non-Null Count  Dtype  \n",
      "---  ------     --------------  -----  \n",
      " 0   WBC        1281 non-null   float64\n",
      " 1   LYMp       1281 non-null   float64\n",
      " 2   NEUTp      1281 non-null   float64\n",
      " 3   LYMn       1281 non-null   float64\n",
      " 4   NEUTn      1281 non-null   float64\n",
      " 5   RBC        1281 non-null   float64\n",
      " 6   HGB        1281 non-null   float64\n",
      " 7   HCT        1281 non-null   float64\n",
      " 8   MCV        1281 non-null   float64\n",
      " 9   MCH        1281 non-null   float64\n",
      " 10  MCHC       1281 non-null   float64\n",
      " 11  PLT        1281 non-null   float64\n",
      " 12  PDW        1281 non-null   float64\n",
      " 13  PCT        1281 non-null   float64\n",
      " 14  Diagnosis  1281 non-null   object \n",
      "dtypes: float64(14), object(1)\n",
      "memory usage: 150.2+ KB\n"
     ]
    }
   ],
   "source": [
    "df.info()"
   ]
  },
  {
   "cell_type": "code",
   "execution_count": 6,
   "id": "5a24aeef-4bee-4d91-8492-0d0964fd54fd",
   "metadata": {},
   "outputs": [
    {
     "data": {
      "text/html": [
       "<div>\n",
       "<style scoped>\n",
       "    .dataframe tbody tr th:only-of-type {\n",
       "        vertical-align: middle;\n",
       "    }\n",
       "\n",
       "    .dataframe tbody tr th {\n",
       "        vertical-align: top;\n",
       "    }\n",
       "\n",
       "    .dataframe thead th {\n",
       "        text-align: right;\n",
       "    }\n",
       "</style>\n",
       "<table border=\"1\" class=\"dataframe\">\n",
       "  <thead>\n",
       "    <tr style=\"text-align: right;\">\n",
       "      <th></th>\n",
       "      <th>count</th>\n",
       "      <th>mean</th>\n",
       "      <th>std</th>\n",
       "      <th>min</th>\n",
       "      <th>25%</th>\n",
       "      <th>50%</th>\n",
       "      <th>75%</th>\n",
       "      <th>max</th>\n",
       "    </tr>\n",
       "  </thead>\n",
       "  <tbody>\n",
       "    <tr>\n",
       "      <th>WBC</th>\n",
       "      <td>1281.0</td>\n",
       "      <td>7.862717</td>\n",
       "      <td>3.564466</td>\n",
       "      <td>0.80</td>\n",
       "      <td>6.00000</td>\n",
       "      <td>7.400000</td>\n",
       "      <td>8.68000</td>\n",
       "      <td>45.7</td>\n",
       "    </tr>\n",
       "    <tr>\n",
       "      <th>LYMp</th>\n",
       "      <td>1281.0</td>\n",
       "      <td>25.845000</td>\n",
       "      <td>7.038728</td>\n",
       "      <td>6.20</td>\n",
       "      <td>25.84500</td>\n",
       "      <td>25.845000</td>\n",
       "      <td>25.84500</td>\n",
       "      <td>91.4</td>\n",
       "    </tr>\n",
       "    <tr>\n",
       "      <th>NEUTp</th>\n",
       "      <td>1281.0</td>\n",
       "      <td>77.511000</td>\n",
       "      <td>147.746273</td>\n",
       "      <td>0.70</td>\n",
       "      <td>71.10000</td>\n",
       "      <td>77.511000</td>\n",
       "      <td>77.51100</td>\n",
       "      <td>5317.0</td>\n",
       "    </tr>\n",
       "    <tr>\n",
       "      <th>LYMn</th>\n",
       "      <td>1281.0</td>\n",
       "      <td>1.880760</td>\n",
       "      <td>1.335689</td>\n",
       "      <td>0.20</td>\n",
       "      <td>1.88076</td>\n",
       "      <td>1.880760</td>\n",
       "      <td>1.88076</td>\n",
       "      <td>41.8</td>\n",
       "    </tr>\n",
       "    <tr>\n",
       "      <th>NEUTn</th>\n",
       "      <td>1281.0</td>\n",
       "      <td>5.140940</td>\n",
       "      <td>2.872294</td>\n",
       "      <td>0.50</td>\n",
       "      <td>5.10000</td>\n",
       "      <td>5.140940</td>\n",
       "      <td>5.14094</td>\n",
       "      <td>79.0</td>\n",
       "    </tr>\n",
       "    <tr>\n",
       "      <th>RBC</th>\n",
       "      <td>1281.0</td>\n",
       "      <td>4.708267</td>\n",
       "      <td>2.817200</td>\n",
       "      <td>1.36</td>\n",
       "      <td>4.19000</td>\n",
       "      <td>4.600000</td>\n",
       "      <td>5.10000</td>\n",
       "      <td>90.8</td>\n",
       "    </tr>\n",
       "    <tr>\n",
       "      <th>HGB</th>\n",
       "      <td>1281.0</td>\n",
       "      <td>12.184551</td>\n",
       "      <td>3.812897</td>\n",
       "      <td>-10.00</td>\n",
       "      <td>10.80000</td>\n",
       "      <td>12.300000</td>\n",
       "      <td>13.50000</td>\n",
       "      <td>87.1</td>\n",
       "    </tr>\n",
       "    <tr>\n",
       "      <th>HCT</th>\n",
       "      <td>1281.0</td>\n",
       "      <td>46.152600</td>\n",
       "      <td>104.886100</td>\n",
       "      <td>2.00</td>\n",
       "      <td>39.20000</td>\n",
       "      <td>46.152600</td>\n",
       "      <td>46.15260</td>\n",
       "      <td>3715.0</td>\n",
       "    </tr>\n",
       "    <tr>\n",
       "      <th>MCV</th>\n",
       "      <td>1281.0</td>\n",
       "      <td>85.793919</td>\n",
       "      <td>27.177663</td>\n",
       "      <td>-79.30</td>\n",
       "      <td>81.20000</td>\n",
       "      <td>86.600000</td>\n",
       "      <td>90.20000</td>\n",
       "      <td>990.0</td>\n",
       "    </tr>\n",
       "    <tr>\n",
       "      <th>MCH</th>\n",
       "      <td>1281.0</td>\n",
       "      <td>32.084840</td>\n",
       "      <td>111.170756</td>\n",
       "      <td>10.90</td>\n",
       "      <td>25.50000</td>\n",
       "      <td>27.800000</td>\n",
       "      <td>29.60000</td>\n",
       "      <td>3117.0</td>\n",
       "    </tr>\n",
       "    <tr>\n",
       "      <th>MCHC</th>\n",
       "      <td>1281.0</td>\n",
       "      <td>31.739149</td>\n",
       "      <td>3.300352</td>\n",
       "      <td>11.50</td>\n",
       "      <td>30.60000</td>\n",
       "      <td>32.000000</td>\n",
       "      <td>32.90000</td>\n",
       "      <td>92.8</td>\n",
       "    </tr>\n",
       "    <tr>\n",
       "      <th>PLT</th>\n",
       "      <td>1281.0</td>\n",
       "      <td>229.981421</td>\n",
       "      <td>93.019336</td>\n",
       "      <td>10.00</td>\n",
       "      <td>157.00000</td>\n",
       "      <td>213.000000</td>\n",
       "      <td>293.00000</td>\n",
       "      <td>660.0</td>\n",
       "    </tr>\n",
       "    <tr>\n",
       "      <th>PDW</th>\n",
       "      <td>1281.0</td>\n",
       "      <td>14.312512</td>\n",
       "      <td>3.005079</td>\n",
       "      <td>8.40</td>\n",
       "      <td>13.30000</td>\n",
       "      <td>14.312512</td>\n",
       "      <td>14.70000</td>\n",
       "      <td>97.0</td>\n",
       "    </tr>\n",
       "    <tr>\n",
       "      <th>PCT</th>\n",
       "      <td>1281.0</td>\n",
       "      <td>0.260280</td>\n",
       "      <td>0.685351</td>\n",
       "      <td>0.01</td>\n",
       "      <td>0.17000</td>\n",
       "      <td>0.260280</td>\n",
       "      <td>0.26028</td>\n",
       "      <td>13.6</td>\n",
       "    </tr>\n",
       "  </tbody>\n",
       "</table>\n",
       "</div>"
      ],
      "text/plain": [
       "        count        mean         std    min        25%         50%  \\\n",
       "WBC    1281.0    7.862717    3.564466   0.80    6.00000    7.400000   \n",
       "LYMp   1281.0   25.845000    7.038728   6.20   25.84500   25.845000   \n",
       "NEUTp  1281.0   77.511000  147.746273   0.70   71.10000   77.511000   \n",
       "LYMn   1281.0    1.880760    1.335689   0.20    1.88076    1.880760   \n",
       "NEUTn  1281.0    5.140940    2.872294   0.50    5.10000    5.140940   \n",
       "RBC    1281.0    4.708267    2.817200   1.36    4.19000    4.600000   \n",
       "HGB    1281.0   12.184551    3.812897 -10.00   10.80000   12.300000   \n",
       "HCT    1281.0   46.152600  104.886100   2.00   39.20000   46.152600   \n",
       "MCV    1281.0   85.793919   27.177663 -79.30   81.20000   86.600000   \n",
       "MCH    1281.0   32.084840  111.170756  10.90   25.50000   27.800000   \n",
       "MCHC   1281.0   31.739149    3.300352  11.50   30.60000   32.000000   \n",
       "PLT    1281.0  229.981421   93.019336  10.00  157.00000  213.000000   \n",
       "PDW    1281.0   14.312512    3.005079   8.40   13.30000   14.312512   \n",
       "PCT    1281.0    0.260280    0.685351   0.01    0.17000    0.260280   \n",
       "\n",
       "             75%     max  \n",
       "WBC      8.68000    45.7  \n",
       "LYMp    25.84500    91.4  \n",
       "NEUTp   77.51100  5317.0  \n",
       "LYMn     1.88076    41.8  \n",
       "NEUTn    5.14094    79.0  \n",
       "RBC      5.10000    90.8  \n",
       "HGB     13.50000    87.1  \n",
       "HCT     46.15260  3715.0  \n",
       "MCV     90.20000   990.0  \n",
       "MCH     29.60000  3117.0  \n",
       "MCHC    32.90000    92.8  \n",
       "PLT    293.00000   660.0  \n",
       "PDW     14.70000    97.0  \n",
       "PCT      0.26028    13.6  "
      ]
     },
     "execution_count": 6,
     "metadata": {},
     "output_type": "execute_result"
    }
   ],
   "source": [
    "df.describe().T"
   ]
  },
  {
   "cell_type": "code",
   "execution_count": 7,
   "id": "eeb29127-b92c-4974-b793-f700d1ecf111",
   "metadata": {},
   "outputs": [
    {
     "data": {
      "text/plain": [
       "Text(0, 0.5, 'Values')"
      ]
     },
     "execution_count": 7,
     "metadata": {},
     "output_type": "execute_result"
    },
    {
     "data": {
      "image/png": "[encoded data removed]",
      "text/plain": [
       "<Figure size 1000x600 with 1 Axes>"
      ]
     },
     "metadata": {},
     "output_type": "display_data"
    }
   ],
   "source": [
    "df.plot(kind='box',figsize=(10,6))\n",
    "plt.xlabel('Variables')\n",
    "plt.ylabel('Values')"
   ]
  },
  {
   "cell_type": "code",
   "execution_count": 8,
   "id": "6647714b-2ead-40e2-bbe9-6de4096fdbaf",
   "metadata": {},
   "outputs": [
    {
     "data": {
      "text/plain": [
       "<AxesSubplot:>"
      ]
     },
     "execution_count": 8,
     "metadata": {},
     "output_type": "execute_result"
    },
    {
     "data": {
      "image/png": "[encoded data removed]",
      "text/plain": [
       "<Figure size 640x480 with 2 Axes>"
      ]
     },
     "metadata": {},
     "output_type": "display_data"
    }
   ],
   "source": [
    "import seaborn as sns\n",
    "sns.heatmap(df.corr(),cmap='YlGnBu')"
   ]
  },
  {
   "cell_type": "code",
   "execution_count": 9,
   "id": "531bb5f8-d97b-47f2-9249-c4e95909e1ab",
   "metadata": {},
   "outputs": [],
   "source": [
    "from sklearn.preprocessing import MinMaxScaler\n",
    "from sklearn.metrics import accuracy_score, classification_report\n",
    "from sklearn.metrics import confusion_matrix\n",
    "from sklearn.metrics import classification_report\n",
    "from sklearn.model_selection import KFold, cross_val_score\n",
    "from sklearn.model_selection import train_test_split, GridSearchCV\n",
    "from sklearn.ensemble import RandomForestClassifier\n",
    "from sklearn.preprocessing import LabelEncoder"
   ]
  },
  {
   "cell_type": "code",
   "execution_count": 10,
   "id": "552f5a4a-4b4d-4494-96c8-bdeb63d9eca0",
   "metadata": {},
   "outputs": [],
   "source": [
    "y=df['Diagnosis']\n",
    "df.drop('Diagnosis',axis=1,inplace=True)"
   ]
  },
  {
   "cell_type": "code",
   "execution_count": 11,
   "id": "a35746b5-1ca9-49ef-a1bc-07b1e41d4975",
   "metadata": {},
   "outputs": [
    {
     "data": {
      "text/plain": [
       "Index(['WBC', 'LYMp', 'NEUTp', 'LYMn', 'NEUTn', 'RBC', 'HGB', 'HCT', 'MCV',\n",
       "       'MCH', 'MCHC', 'PLT', 'PDW', 'PCT'],\n",
       "      dtype='object')"
      ]
     },
     "execution_count": 11,
     "metadata": {},
     "output_type": "execute_result"
    }
   ],
   "source": [
    "cols=df.columns\n",
    "cols"
   ]
  },
  {
   "cell_type": "code",
   "execution_count": 12,
   "id": "8967bbdb-7524-44f0-9418-1f89eed3a97e",
   "metadata": {},
   "outputs": [],
   "source": [
    "scaler= MinMaxScaler()\n",
    "df=scaler.fit_transform(df)"
   ]
  },
  {
   "cell_type": "code",
   "execution_count": 13,
   "id": "bc890e34-15c0-4841-ad92-9b43f62b3ea5",
   "metadata": {},
   "outputs": [],
   "source": [
    "df =pd.DataFrame(df,columns=[cols])"
   ]
  },
  {
   "cell_type": "code",
   "execution_count": 14,
   "id": "9d24c53b-56f0-44b2-8628-39c80d9b7fc5",
   "metadata": {},
   "outputs": [
    {
     "data": {
      "text/html": [
       "<div>\n",
       "<style scoped>\n",
       "    .dataframe tbody tr th:only-of-type {\n",
       "        vertical-align: middle;\n",
       "    }\n",
       "\n",
       "    .dataframe tbody tr th {\n",
       "        vertical-align: top;\n",
       "    }\n",
       "\n",
       "    .dataframe thead tr th {\n",
       "        text-align: left;\n",
       "    }\n",
       "</style>\n",
       "<table border=\"1\" class=\"dataframe\">\n",
       "  <thead>\n",
       "    <tr>\n",
       "      <th></th>\n",
       "      <th>WBC</th>\n",
       "      <th>LYMp</th>\n",
       "      <th>NEUTp</th>\n",
       "      <th>LYMn</th>\n",
       "      <th>NEUTn</th>\n",
       "      <th>RBC</th>\n",
       "      <th>HGB</th>\n",
       "      <th>HCT</th>\n",
       "      <th>MCV</th>\n",
       "      <th>MCH</th>\n",
       "      <th>MCHC</th>\n",
       "      <th>PLT</th>\n",
       "      <th>PDW</th>\n",
       "      <th>PCT</th>\n",
       "    </tr>\n",
       "  </thead>\n",
       "  <tbody>\n",
       "    <tr>\n",
       "      <th>0</th>\n",
       "      <td>0.204900</td>\n",
       "      <td>0.434272</td>\n",
       "      <td>0.009292</td>\n",
       "      <td>0.098558</td>\n",
       "      <td>0.057325</td>\n",
       "      <td>0.015765</td>\n",
       "      <td>0.178167</td>\n",
       "      <td>0.005979</td>\n",
       "      <td>0.156177</td>\n",
       "      <td>0.004958</td>\n",
       "      <td>0.228782</td>\n",
       "      <td>0.275385</td>\n",
       "      <td>0.046275</td>\n",
       "      <td>0.011773</td>\n",
       "    </tr>\n",
       "    <tr>\n",
       "      <th>1</th>\n",
       "      <td>0.204900</td>\n",
       "      <td>0.424883</td>\n",
       "      <td>0.009706</td>\n",
       "      <td>0.096154</td>\n",
       "      <td>0.061146</td>\n",
       "      <td>0.016547</td>\n",
       "      <td>0.178167</td>\n",
       "      <td>0.006194</td>\n",
       "      <td>0.156645</td>\n",
       "      <td>0.004765</td>\n",
       "      <td>0.107011</td>\n",
       "      <td>0.261538</td>\n",
       "      <td>0.046275</td>\n",
       "      <td>0.011038</td>\n",
       "    </tr>\n",
       "    <tr>\n",
       "      <th>2</th>\n",
       "      <td>0.142539</td>\n",
       "      <td>0.287559</td>\n",
       "      <td>0.011286</td>\n",
       "      <td>0.048077</td>\n",
       "      <td>0.049682</td>\n",
       "      <td>0.029182</td>\n",
       "      <td>0.195675</td>\n",
       "      <td>0.007676</td>\n",
       "      <td>0.146170</td>\n",
       "      <td>0.003767</td>\n",
       "      <td>0.221402</td>\n",
       "      <td>0.212308</td>\n",
       "      <td>0.066591</td>\n",
       "      <td>0.009566</td>\n",
       "    </tr>\n",
       "    <tr>\n",
       "      <th>3</th>\n",
       "      <td>0.115813</td>\n",
       "      <td>0.281690</td>\n",
       "      <td>0.011813</td>\n",
       "      <td>0.038462</td>\n",
       "      <td>0.042038</td>\n",
       "      <td>0.031977</td>\n",
       "      <td>0.142122</td>\n",
       "      <td>0.008295</td>\n",
       "      <td>0.147012</td>\n",
       "      <td>0.003960</td>\n",
       "      <td>0.225092</td>\n",
       "      <td>0.204615</td>\n",
       "      <td>0.032731</td>\n",
       "      <td>0.008094</td>\n",
       "    </tr>\n",
       "    <tr>\n",
       "      <th>4</th>\n",
       "      <td>0.075724</td>\n",
       "      <td>0.386150</td>\n",
       "      <td>0.009969</td>\n",
       "      <td>0.033654</td>\n",
       "      <td>0.022930</td>\n",
       "      <td>0.028734</td>\n",
       "      <td>0.107106</td>\n",
       "      <td>0.084568</td>\n",
       "      <td>0.149537</td>\n",
       "      <td>0.004185</td>\n",
       "      <td>0.223862</td>\n",
       "      <td>0.347692</td>\n",
       "      <td>0.049661</td>\n",
       "      <td>0.015453</td>\n",
       "    </tr>\n",
       "  </tbody>\n",
       "</table>\n",
       "</div>"
      ],
      "text/plain": [
       "        WBC      LYMp     NEUTp      LYMn     NEUTn       RBC       HGB  \\\n",
       "0  0.204900  0.434272  0.009292  0.098558  0.057325  0.015765  0.178167   \n",
       "1  0.204900  0.424883  0.009706  0.096154  0.061146  0.016547  0.178167   \n",
       "2  0.142539  0.287559  0.011286  0.048077  0.049682  0.029182  0.195675   \n",
       "3  0.115813  0.281690  0.011813  0.038462  0.042038  0.031977  0.142122   \n",
       "4  0.075724  0.386150  0.009969  0.033654  0.022930  0.028734  0.107106   \n",
       "\n",
       "        HCT       MCV       MCH      MCHC       PLT       PDW       PCT  \n",
       "0  0.005979  0.156177  0.004958  0.228782  0.275385  0.046275  0.011773  \n",
       "1  0.006194  0.156645  0.004765  0.107011  0.261538  0.046275  0.011038  \n",
       "2  0.007676  0.146170  0.003767  0.221402  0.212308  0.066591  0.009566  \n",
       "3  0.008295  0.147012  0.003960  0.225092  0.204615  0.032731  0.008094  \n",
       "4  0.084568  0.149537  0.004185  0.223862  0.347692  0.049661  0.015453  "
      ]
     },
     "execution_count": 14,
     "metadata": {},
     "output_type": "execute_result"
    }
   ],
   "source": [
    "df.head()"
   ]
  },
  {
   "cell_type": "code",
   "execution_count": 15,
   "id": "3de848bd-2dec-4615-adca-b2f6e7ccc32f",
   "metadata": {},
   "outputs": [],
   "source": [
    "X_train, X_test, y_train, y_test = train_test_split(df,y,test_size=0.2,random_state=2)"
   ]
  },
  {
   "cell_type": "code",
   "execution_count": 16,
   "id": "8eaf156c-2255-4976-8a7c-ae5e05014303",
   "metadata": {},
   "outputs": [
    {
     "data": {
      "text/plain": [
       "(1024, 14)"
      ]
     },
     "execution_count": 16,
     "metadata": {},
     "output_type": "execute_result"
    }
   ],
   "source": [
    "X_train.shape"
   ]
  },
  {
   "cell_type": "code",
   "execution_count": 17,
   "id": "8f77246b-b723-4e7a-a6e1-f78b2924b62d",
   "metadata": {},
   "outputs": [
    {
     "data": {
      "text/plain": [
       "(257, 14)"
      ]
     },
     "execution_count": 17,
     "metadata": {},
     "output_type": "execute_result"
    }
   ],
   "source": [
    "X_test.shape"
   ]
  },
  {
   "cell_type": "code",
   "execution_count": 18,
   "id": "be06a28d-9003-4897-927f-5c7c61242ac4",
   "metadata": {},
   "outputs": [
    {
     "data": {
      "text/plain": [
       "349             Iron deficiency anemia\n",
       "90                    Thrombocytopenia\n",
       "909     Normocytic normochromic anemia\n",
       "315                            Healthy\n",
       "284                   Thrombocytopenia\n",
       "                     ...              \n",
       "466     Normocytic normochromic anemia\n",
       "299      Normocytic hypochromic anemia\n",
       "493     Normocytic normochromic anemia\n",
       "527                            Healthy\n",
       "1192            Iron deficiency anemia\n",
       "Name: Diagnosis, Length: 1024, dtype: object"
      ]
     },
     "execution_count": 18,
     "metadata": {},
     "output_type": "execute_result"
    }
   ],
   "source": [
    "y_train"
   ]
  },
  {
   "cell_type": "code",
   "execution_count": 19,
   "id": "f4b5fc2e-73ec-4892-86f7-6ef516004d31",
   "metadata": {},
   "outputs": [],
   "source": [
    "rf= RandomForestClassifier(random_state=42)"
   ]
  },
  {
   "cell_type": "code",
   "execution_count": 21,
   "id": "e5786d8e-7294-4bb2-b9db-157838412476",
   "metadata": {},
   "outputs": [
    {
     "name": "stdout",
     "output_type": "stream",
     "text": [
      "Best parameters are:\n",
      " {'criterion': 'gini', 'max_depth': 4, 'max_features': None, 'n_estimators': 100}\n",
      "time:32.07\n"
     ]
    }
   ],
   "source": [
    "np.random.seed(42)\n",
    "start=time.time()\n",
    "param_dist={\"max_depth\":[2,3,4],\n",
    "            \"n_estimators\":[100,200,400],\n",
    "            \"max_features\":[\"auto\",\"sqrt\",\"log2\",None],\n",
    "            'criterion':['gini','entropy']}\n",
    "\n",
    "cv_rf=GridSearchCV(rf,cv=5,param_grid=param_dist,n_jobs=4)\n",
    "cv_rf.fit(X_train,y_train)\n",
    "print('Best parameters are:\\n',cv_rf.best_params_)\n",
    "end=time.time()\n",
    "print('time:{0:.2f}'.format(end-start))"
   ]
  },
  {
   "cell_type": "code",
   "execution_count": 22,
   "id": "ef56c9a4-ac50-42f0-bc6f-b0043c851387",
   "metadata": {},
   "outputs": [
    {
     "data": {
      "text/plain": [
       "RandomForestClassifier(max_depth=4, max_features=None, random_state=42)"
      ]
     },
     "execution_count": 22,
     "metadata": {},
     "output_type": "execute_result"
    }
   ],
   "source": [
    "rf.set_params(criterion='gini',\n",
    "             max_features=None,\n",
    "             max_depth=4,\n",
    "             n_estimators=100)\n",
    "rf.fit(X_train,y_train)"
   ]
  },
  {
   "cell_type": "code",
   "execution_count": 23,
   "id": "8042c430-4a6d-4e24-a315-8b66f9ae2300",
   "metadata": {},
   "outputs": [
    {
     "data": {
      "text/html": [
       "<div>\n",
       "<style scoped>\n",
       "    .dataframe tbody tr th:only-of-type {\n",
       "        vertical-align: middle;\n",
       "    }\n",
       "\n",
       "    .dataframe tbody tr th {\n",
       "        vertical-align: top;\n",
       "    }\n",
       "\n",
       "    .dataframe thead th {\n",
       "        text-align: right;\n",
       "    }\n",
       "</style>\n",
       "<table border=\"1\" class=\"dataframe\">\n",
       "  <thead>\n",
       "    <tr style=\"text-align: right;\">\n",
       "      <th></th>\n",
       "      <th>feature</th>\n",
       "      <th>importance</th>\n",
       "    </tr>\n",
       "  </thead>\n",
       "  <tbody>\n",
       "    <tr>\n",
       "      <th>8</th>\n",
       "      <td>(MCV,)</td>\n",
       "      <td>0.313343</td>\n",
       "    </tr>\n",
       "    <tr>\n",
       "      <th>6</th>\n",
       "      <td>(HGB,)</td>\n",
       "      <td>0.244151</td>\n",
       "    </tr>\n",
       "    <tr>\n",
       "      <th>10</th>\n",
       "      <td>(MCHC,)</td>\n",
       "      <td>0.204899</td>\n",
       "    </tr>\n",
       "    <tr>\n",
       "      <th>11</th>\n",
       "      <td>(PLT,)</td>\n",
       "      <td>0.105896</td>\n",
       "    </tr>\n",
       "    <tr>\n",
       "      <th>0</th>\n",
       "      <td>(WBC,)</td>\n",
       "      <td>0.098127</td>\n",
       "    </tr>\n",
       "    <tr>\n",
       "      <th>9</th>\n",
       "      <td>(MCH,)</td>\n",
       "      <td>0.021185</td>\n",
       "    </tr>\n",
       "    <tr>\n",
       "      <th>7</th>\n",
       "      <td>(HCT,)</td>\n",
       "      <td>0.007193</td>\n",
       "    </tr>\n",
       "    <tr>\n",
       "      <th>4</th>\n",
       "      <td>(NEUTn,)</td>\n",
       "      <td>0.002899</td>\n",
       "    </tr>\n",
       "    <tr>\n",
       "      <th>13</th>\n",
       "      <td>(PCT,)</td>\n",
       "      <td>0.000982</td>\n",
       "    </tr>\n",
       "    <tr>\n",
       "      <th>2</th>\n",
       "      <td>(NEUTp,)</td>\n",
       "      <td>0.000403</td>\n",
       "    </tr>\n",
       "    <tr>\n",
       "      <th>3</th>\n",
       "      <td>(LYMn,)</td>\n",
       "      <td>0.000381</td>\n",
       "    </tr>\n",
       "    <tr>\n",
       "      <th>12</th>\n",
       "      <td>(PDW,)</td>\n",
       "      <td>0.000252</td>\n",
       "    </tr>\n",
       "    <tr>\n",
       "      <th>5</th>\n",
       "      <td>(RBC,)</td>\n",
       "      <td>0.000242</td>\n",
       "    </tr>\n",
       "    <tr>\n",
       "      <th>1</th>\n",
       "      <td>(LYMp,)</td>\n",
       "      <td>0.000048</td>\n",
       "    </tr>\n",
       "  </tbody>\n",
       "</table>\n",
       "</div>"
      ],
      "text/plain": [
       "     feature  importance\n",
       "8     (MCV,)    0.313343\n",
       "6     (HGB,)    0.244151\n",
       "10   (MCHC,)    0.204899\n",
       "11    (PLT,)    0.105896\n",
       "0     (WBC,)    0.098127\n",
       "9     (MCH,)    0.021185\n",
       "7     (HCT,)    0.007193\n",
       "4   (NEUTn,)    0.002899\n",
       "13    (PCT,)    0.000982\n",
       "2   (NEUTp,)    0.000403\n",
       "3    (LYMn,)    0.000381\n",
       "12    (PDW,)    0.000252\n",
       "5     (RBC,)    0.000242\n",
       "1    (LYMp,)    0.000048"
      ]
     },
     "execution_count": 23,
     "metadata": {},
     "output_type": "execute_result"
    }
   ],
   "source": [
    "pd.concat((pd.DataFrame(X_train.columns,columns=['feature']),\n",
    "          pd.DataFrame(rf.feature_importances_,columns=['importance'])),\n",
    "         axis=1).sort_values(by='importance',ascending=False)"
   ]
  },
  {
   "cell_type": "code",
   "execution_count": 24,
   "id": "3f28b075-0d5c-4d5a-9d8d-e67318be9dac",
   "metadata": {},
   "outputs": [
    {
     "data": {
      "text/plain": [
       "array(['Normocytic normochromic anemia', 'Other microcytic anemia',\n",
       "       'Thrombocytopenia', 'Normocytic normochromic anemia',\n",
       "       'Iron deficiency anemia', 'Normocytic normochromic anemia',\n",
       "       'Normocytic hypochromic anemia', 'Thrombocytopenia', 'Healthy',\n",
       "       'Healthy', 'Healthy', 'Normocytic hypochromic anemia',\n",
       "       'Iron deficiency anemia', 'Iron deficiency anemia', 'Healthy',\n",
       "       'Normocytic normochromic anemia', 'Normocytic normochromic anemia',\n",
       "       'Healthy', 'Normocytic hypochromic anemia',\n",
       "       'Iron deficiency anemia', 'Thrombocytopenia',\n",
       "       'Iron deficiency anemia', 'Normocytic normochromic anemia',\n",
       "       'Normocytic normochromic anemia', 'Normocytic hypochromic anemia',\n",
       "       'Iron deficiency anemia', 'Normocytic hypochromic anemia',\n",
       "       'Healthy', 'Healthy', 'Normocytic normochromic anemia',\n",
       "       'Normocytic hypochromic anemia', 'Normocytic hypochromic anemia',\n",
       "       'Healthy', 'Healthy', 'Normocytic normochromic anemia',\n",
       "       'Normocytic hypochromic anemia', 'Leukemia', 'Macrocytic anemia',\n",
       "       'Iron deficiency anemia', 'Healthy',\n",
       "       'Normocytic normochromic anemia', 'Normocytic normochromic anemia',\n",
       "       'Normocytic hypochromic anemia', 'Iron deficiency anemia',\n",
       "       'Healthy', 'Iron deficiency anemia', 'Iron deficiency anemia',\n",
       "       'Normocytic hypochromic anemia', 'Healthy', 'Healthy',\n",
       "       'Normocytic normochromic anemia', 'Normocytic hypochromic anemia',\n",
       "       'Healthy', 'Normocytic normochromic anemia',\n",
       "       'Normocytic hypochromic anemia', 'Normocytic normochromic anemia',\n",
       "       'Iron deficiency anemia', 'Healthy', 'Iron deficiency anemia',\n",
       "       'Healthy', 'Leukemia', 'Other microcytic anemia',\n",
       "       'Normocytic hypochromic anemia', 'Thrombocytopenia',\n",
       "       'Normocytic normochromic anemia', 'Healthy',\n",
       "       'Normocytic normochromic anemia', 'Normocytic hypochromic anemia',\n",
       "       'Normocytic normochromic anemia', 'Normocytic normochromic anemia',\n",
       "       'Iron deficiency anemia', 'Normocytic normochromic anemia',\n",
       "       'Healthy', 'Normocytic hypochromic anemia',\n",
       "       'Normocytic hypochromic anemia', 'Healthy',\n",
       "       'Leukemia with thrombocytopenia', 'Healthy',\n",
       "       'Normocytic normochromic anemia', 'Iron deficiency anemia',\n",
       "       'Iron deficiency anemia', 'Normocytic normochromic anemia',\n",
       "       'Iron deficiency anemia', 'Healthy',\n",
       "       'Normocytic hypochromic anemia', 'Thrombocytopenia',\n",
       "       'Normocytic hypochromic anemia', 'Normocytic normochromic anemia',\n",
       "       'Normocytic hypochromic anemia', 'Healthy', 'Healthy',\n",
       "       'Other microcytic anemia', 'Normocytic hypochromic anemia',\n",
       "       'Normocytic hypochromic anemia', 'Healthy',\n",
       "       'Normocytic normochromic anemia', 'Normocytic normochromic anemia',\n",
       "       'Iron deficiency anemia', 'Normocytic normochromic anemia',\n",
       "       'Normocytic hypochromic anemia', 'Normocytic normochromic anemia',\n",
       "       'Normocytic normochromic anemia', 'Normocytic normochromic anemia',\n",
       "       'Healthy', 'Iron deficiency anemia', 'Iron deficiency anemia',\n",
       "       'Normocytic normochromic anemia', 'Iron deficiency anemia',\n",
       "       'Normocytic hypochromic anemia', 'Normocytic hypochromic anemia',\n",
       "       'Normocytic hypochromic anemia', 'Normocytic hypochromic anemia',\n",
       "       'Normocytic normochromic anemia', 'Healthy',\n",
       "       'Normocytic hypochromic anemia', 'Normocytic hypochromic anemia',\n",
       "       'Normocytic normochromic anemia', 'Iron deficiency anemia',\n",
       "       'Leukemia', 'Iron deficiency anemia',\n",
       "       'Normocytic normochromic anemia', 'Normocytic hypochromic anemia',\n",
       "       'Healthy', 'Normocytic normochromic anemia', 'Healthy',\n",
       "       'Iron deficiency anemia', 'Healthy', 'Iron deficiency anemia',\n",
       "       'Healthy', 'Normocytic hypochromic anemia',\n",
       "       'Iron deficiency anemia', 'Normocytic hypochromic anemia',\n",
       "       'Healthy', 'Normocytic hypochromic anemia',\n",
       "       'Normocytic normochromic anemia', 'Iron deficiency anemia',\n",
       "       'Thrombocytopenia', 'Leukemia', 'Normocytic normochromic anemia',\n",
       "       'Healthy', 'Iron deficiency anemia', 'Thrombocytopenia',\n",
       "       'Normocytic normochromic anemia', 'Healthy',\n",
       "       'Normocytic normochromic anemia', 'Iron deficiency anemia',\n",
       "       'Iron deficiency anemia', 'Healthy',\n",
       "       'Normocytic hypochromic anemia', 'Normocytic hypochromic anemia',\n",
       "       'Normocytic normochromic anemia', 'Thrombocytopenia',\n",
       "       'Iron deficiency anemia', 'Iron deficiency anemia',\n",
       "       'Iron deficiency anemia', 'Normocytic hypochromic anemia',\n",
       "       'Thrombocytopenia', 'Iron deficiency anemia',\n",
       "       'Normocytic hypochromic anemia', 'Leukemia',\n",
       "       'Normocytic hypochromic anemia', 'Other microcytic anemia',\n",
       "       'Thrombocytopenia', 'Iron deficiency anemia',\n",
       "       'Normocytic hypochromic anemia', 'Leukemia with thrombocytopenia',\n",
       "       'Healthy', 'Normocytic hypochromic anemia', 'Macrocytic anemia',\n",
       "       'Iron deficiency anemia', 'Iron deficiency anemia',\n",
       "       'Normocytic normochromic anemia', 'Healthy',\n",
       "       'Iron deficiency anemia', 'Healthy', 'Healthy',\n",
       "       'Normocytic hypochromic anemia', 'Normocytic normochromic anemia',\n",
       "       'Healthy', 'Healthy', 'Normocytic normochromic anemia',\n",
       "       'Normocytic normochromic anemia', 'Other microcytic anemia',\n",
       "       'Normocytic normochromic anemia', 'Leukemia with thrombocytopenia',\n",
       "       'Normocytic hypochromic anemia', 'Healthy',\n",
       "       'Other microcytic anemia', 'Iron deficiency anemia',\n",
       "       'Iron deficiency anemia', 'Normocytic hypochromic anemia',\n",
       "       'Other microcytic anemia', 'Leukemia', 'Thrombocytopenia',\n",
       "       'Healthy', 'Iron deficiency anemia',\n",
       "       'Normocytic normochromic anemia', 'Normocytic hypochromic anemia',\n",
       "       'Normocytic hypochromic anemia', 'Normocytic hypochromic anemia',\n",
       "       'Normocytic hypochromic anemia', 'Normocytic hypochromic anemia',\n",
       "       'Healthy', 'Normocytic hypochromic anemia',\n",
       "       'Normocytic hypochromic anemia', 'Healthy',\n",
       "       'Normocytic normochromic anemia', 'Healthy',\n",
       "       'Normocytic normochromic anemia', 'Normocytic normochromic anemia',\n",
       "       'Normocytic hypochromic anemia', 'Normocytic normochromic anemia',\n",
       "       'Iron deficiency anemia', 'Thrombocytopenia', 'Healthy',\n",
       "       'Normocytic hypochromic anemia', 'Healthy',\n",
       "       'Normocytic normochromic anemia', 'Normocytic normochromic anemia',\n",
       "       'Healthy', 'Normocytic normochromic anemia',\n",
       "       'Normocytic normochromic anemia', 'Normocytic hypochromic anemia',\n",
       "       'Normocytic hypochromic anemia', 'Normocytic normochromic anemia',\n",
       "       'Healthy', 'Normocytic normochromic anemia',\n",
       "       'Normocytic normochromic anemia', 'Iron deficiency anemia',\n",
       "       'Normocytic normochromic anemia', 'Normocytic hypochromic anemia',\n",
       "       'Healthy', 'Iron deficiency anemia',\n",
       "       'Normocytic hypochromic anemia', 'Iron deficiency anemia',\n",
       "       'Iron deficiency anemia', 'Normocytic normochromic anemia',\n",
       "       'Leukemia', 'Healthy', 'Iron deficiency anemia', 'Leukemia',\n",
       "       'Healthy', 'Normocytic normochromic anemia', 'Thrombocytopenia',\n",
       "       'Normocytic normochromic anemia', 'Normocytic normochromic anemia',\n",
       "       'Healthy', 'Iron deficiency anemia', 'Thrombocytopenia',\n",
       "       'Normocytic normochromic anemia', 'Normocytic hypochromic anemia',\n",
       "       'Normocytic normochromic anemia', 'Thrombocytopenia', 'Healthy',\n",
       "       'Healthy', 'Normocytic hypochromic anemia', 'Healthy'],\n",
       "      dtype=object)"
      ]
     },
     "execution_count": 24,
     "metadata": {},
     "output_type": "execute_result"
    }
   ],
   "source": [
    "y_pred=rf.predict(X_test)\n",
    "y_pred"
   ]
  },
  {
   "cell_type": "code",
   "execution_count": 25,
   "id": "d1a81dd0-bfb3-4693-9d2b-46ea469dae34",
   "metadata": {},
   "outputs": [
    {
     "name": "stdout",
     "output_type": "stream",
     "text": [
      "Accuracy Score is:0.9844\n"
     ]
    }
   ],
   "source": [
    "print('Accuracy Score is:{0:0.4f}'.format(accuracy_score(y_test,y_pred)))"
   ]
  },
  {
   "cell_type": "code",
   "execution_count": 26,
   "id": "5cbc284b-e464-4bda-912a-a8a1a82eaaeb",
   "metadata": {},
   "outputs": [
    {
     "name": "stdout",
     "output_type": "stream",
     "text": [
      "                                precision    recall  f1-score   support\n",
      "\n",
      "                       Healthy       0.98      1.00      0.99        55\n",
      "        Iron deficiency anemia       0.98      1.00      0.99        46\n",
      "                      Leukemia       1.00      1.00      1.00         8\n",
      "Leukemia with thrombocytopenia       1.00      1.00      1.00         3\n",
      "             Macrocytic anemia       1.00      1.00      1.00         2\n",
      " Normocytic hypochromic anemia       1.00      0.95      0.97        60\n",
      "Normocytic normochromic anemia       0.97      1.00      0.98        60\n",
      "       Other microcytic anemia       1.00      0.88      0.93         8\n",
      "              Thrombocytopenia       1.00      1.00      1.00        15\n",
      "\n",
      "                      accuracy                           0.98       257\n",
      "                     macro avg       0.99      0.98      0.99       257\n",
      "                  weighted avg       0.98      0.98      0.98       257\n",
      "\n"
     ]
    }
   ],
   "source": [
    "print(classification_report(y_test,y_pred))"
   ]
  },
  {
   "cell_type": "code",
   "execution_count": null,
   "id": "0df6136b-180c-4116-824e-3a68f8fc7e32",
   "metadata": {},
   "outputs": [],
   "source": []
  }
 ],
 "metadata": {
  "kernelspec": {
   "display_name": "Python 3 (ipykernel)",
   "language": "python",
   "name": "python3"
  },
  "language_info": {
   "codemirror_mode": {
    "name": "ipython",
    "version": 3
   },
   "file_extension": ".py",
   "mimetype": "text/x-python",
   "name": "python",
   "nbconvert_exporter": "python",
   "pygments_lexer": "ipython3",
   "version": "3.9.13"
  }
 },
 "nbformat": 4,
 "nbformat_minor": 5
}
